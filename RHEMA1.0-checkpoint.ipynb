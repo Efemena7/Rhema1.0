{
 "cells": [
  {
   "cell_type": "code",
   "execution_count": null,
   "id": "20dabf53",
   "metadata": {},
   "outputs": [],
   "source": []
  },
  {
   "cell_type": "code",
   "execution_count": null,
   "id": "91cf85ff",
   "metadata": {},
   "outputs": [],
   "source": [
    "grade_file= open(\"st_grade.txt\",\"w\")\n",
    "no_of_student=int(input(\"What is the Total number of stuent: \"))\n",
    "total_score=0\n",
    "for i in range(1,no_of_student):\n",
    "    name = input(\"Enter student's name: \")\n",
    "    score = int(input(\"Enter student's score: \"))\n",
    "    if score>100:\n",
    "        print(f\"The score({score}) entered is above 100\")\n",
    "    elif score>=70:\n",
    "         grade=\"A\"\n",
    "    elif score>=60:\n",
    "         grade=\"B\"\n",
    "    elif score>=50:\n",
    "         grade=\"C\"\n",
    "    elif score>=40:\n",
    "         grade=\"D\"\n",
    "    elif score>=30:\n",
    "         grade=\"E\"\n",
    "    else:\n",
    "        grade=\"F\"\n",
    "    total_score +=score\n",
    "    grade_file.write(f\"{i}:\\t{name}\\t{score}\\t\\t{grade}\\n\")\n",
    "grade_file.write(f\"=\"*20)\n",
    "grade_file.write(f\"\\nNo. of student: {no_of_student}\\n\")\n",
    "grade_file.write(f\"Total Score:{total_score}\\n\")\n",
    "avg=total_score /2\n",
    "grade_file.write(f\"Average Score:{avg}\\n\")\n",
    "grade_file.close()\n",
    "\n"
   ]
  },
  {
   "cell_type": "code",
   "execution_count": null,
   "id": "7f2efe74",
   "metadata": {},
   "outputs": [],
   "source": [
    "104"
   ]
  },
  {
   "cell_type": "code",
   "execution_count": null,
   "id": "f48430f5",
   "metadata": {},
   "outputs": [],
   "source": [
    "value=int(input(\"Enter an Integer: \"))\n",
    "list_=[]\n",
    "while value!=0:\n",
    "    list_.append(value)\n",
    "    value=int(input(\"Enter an Integer: \"))\n",
    "    list_.sort()\n",
    "for value in list_:\n",
    "    print(value)"
   ]
  },
  {
   "cell_type": "code",
   "execution_count": null,
   "id": "f38aff35",
   "metadata": {},
   "outputs": [],
   "source": [
    "a=[]\n",
    "a.append(t)"
   ]
  },
  {
   "cell_type": "code",
   "execution_count": null,
   "id": "49be775f",
   "metadata": {},
   "outputs": [],
   "source": [
    "105"
   ]
  },
  {
   "cell_type": "code",
   "execution_count": null,
   "id": "14cf8f3c",
   "metadata": {},
   "outputs": [],
   "source": [
    "value=int(input(\"Enter an Integer: \"))\n",
    "list_=[]\n",
    "while value!=0:\n",
    "    list_.append(value)\n",
    "    value=int(input(\"Enter an Integer: \"))\n",
    "    list_.sort(reverse=True)\n",
    "for value in list_:\n",
    "    print(value)"
   ]
  },
  {
   "cell_type": "code",
   "execution_count": null,
   "id": "0e191ce5",
   "metadata": {},
   "outputs": [],
   "source": [
    "107"
   ]
  },
  {
   "cell_type": "code",
   "execution_count": null,
   "id": "9fcce422",
   "metadata": {},
   "outputs": [],
   "source": [
    "words=[]\n",
    "word=input(\"Enter a word: \")\n",
    "while word!=\" \":\n",
    "    words.append(word)\n",
    "    word=input(\"Enter a word: \")\n",
    "for word in words:\n",
    "    print(word)"
   ]
  },
  {
   "cell_type": "code",
   "execution_count": null,
   "id": "4274c9b5",
   "metadata": {},
   "outputs": [],
   "source": []
  },
  {
   "cell_type": "code",
   "execution_count": null,
   "id": "0d61b626",
   "metadata": {},
   "outputs": [],
   "source": []
  },
  {
   "cell_type": "code",
   "execution_count": null,
   "id": "80a3a527",
   "metadata": {},
   "outputs": [],
   "source": []
  }
 ],
 "metadata": {
  "kernelspec": {
   "display_name": "Python 3 (ipykernel)",
   "language": "python",
   "name": "python3"
  },
  "language_info": {
   "codemirror_mode": {
    "name": "ipython",
    "version": 3
   },
   "file_extension": ".py",
   "mimetype": "text/x-python",
   "name": "python",
   "nbconvert_exporter": "python",
   "pygments_lexer": "ipython3",
   "version": "3.9.12"
  }
 },
 "nbformat": 4,
 "nbformat_minor": 5
}
